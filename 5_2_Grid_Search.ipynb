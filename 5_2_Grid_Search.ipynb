{
  "nbformat": 4,
  "nbformat_minor": 0,
  "metadata": {
    "colab": {
      "name": "5.2 Grid Search.ipynb",
      "provenance": [],
      "collapsed_sections": [],
      "authorship_tag": "ABX9TyMX3XcEYMzYxO8fkNLJ7DBz",
      "include_colab_link": true
    },
    "kernelspec": {
      "name": "python3",
      "display_name": "Python 3"
    }
  },
  "cells": [
    {
      "cell_type": "markdown",
      "metadata": {
        "id": "view-in-github",
        "colab_type": "text"
      },
      "source": [
        "<a href=\"https://colab.research.google.com/github/Hyunj5ng/machine-learning-practice/blob/main/5_2_Grid_Search.ipynb\" target=\"_parent\"><img src=\"https://colab.research.google.com/assets/colab-badge.svg\" alt=\"Open In Colab\"/></a>"
      ]
    },
    {
      "cell_type": "code",
      "metadata": {
        "colab": {
          "base_uri": "https://localhost:8080/"
        },
        "id": "VVINovDBeLZW",
        "outputId": "0940b2e5-2e5c-479a-a045-b51ab86ce2b6"
      },
      "source": [
        "!pip install mglearn\r\n",
        "import sys\r\n",
        "import pandas as pd\r\n",
        "import mglearn\r\n",
        "import matplotlib.pyplot as plt\r\n",
        "import numpy as np\r\n",
        "import scipy as sp\r\n",
        "import IPython \r\n",
        "import sklearn\r\n",
        "from sklearn.model_selection import train_test_split\r\n",
        "\r\n",
        "import warnings\r\n",
        "warnings.filterwarnings(\"ignore\")"
      ],
      "execution_count": null,
      "outputs": [
        {
          "output_type": "stream",
          "text": [
            "Collecting mglearn\n",
            "\u001b[?25l  Downloading https://files.pythonhosted.org/packages/65/38/8aced26fce0b2ae82c3c87cd3b6105f38ca6d9d51704ecc44aa54473e6b9/mglearn-0.1.9.tar.gz (540kB)\n",
            "\r\u001b[K     |▋                               | 10kB 10.5MB/s eta 0:00:01\r\u001b[K     |█▏                              | 20kB 5.5MB/s eta 0:00:01\r\u001b[K     |█▉                              | 30kB 6.8MB/s eta 0:00:01\r\u001b[K     |██▍                             | 40kB 5.1MB/s eta 0:00:01\r\u001b[K     |███                             | 51kB 6.1MB/s eta 0:00:01\r\u001b[K     |███▋                            | 61kB 6.1MB/s eta 0:00:01\r\u001b[K     |████▎                           | 71kB 6.4MB/s eta 0:00:01\r\u001b[K     |████▉                           | 81kB 7.1MB/s eta 0:00:01\r\u001b[K     |█████▌                          | 92kB 6.7MB/s eta 0:00:01\r\u001b[K     |██████                          | 102kB 6.6MB/s eta 0:00:01\r\u001b[K     |██████▊                         | 112kB 6.6MB/s eta 0:00:01\r\u001b[K     |███████▎                        | 122kB 6.6MB/s eta 0:00:01\r\u001b[K     |███████▉                        | 133kB 6.6MB/s eta 0:00:01\r\u001b[K     |████████▌                       | 143kB 6.6MB/s eta 0:00:01\r\u001b[K     |█████████                       | 153kB 6.6MB/s eta 0:00:01\r\u001b[K     |█████████▊                      | 163kB 6.6MB/s eta 0:00:01\r\u001b[K     |██████████▎                     | 174kB 6.6MB/s eta 0:00:01\r\u001b[K     |███████████                     | 184kB 6.6MB/s eta 0:00:01\r\u001b[K     |███████████▌                    | 194kB 6.6MB/s eta 0:00:01\r\u001b[K     |████████████▏                   | 204kB 6.6MB/s eta 0:00:01\r\u001b[K     |████████████▊                   | 215kB 6.6MB/s eta 0:00:01\r\u001b[K     |█████████████▍                  | 225kB 6.6MB/s eta 0:00:01\r\u001b[K     |██████████████                  | 235kB 6.6MB/s eta 0:00:01\r\u001b[K     |██████████████▋                 | 245kB 6.6MB/s eta 0:00:01\r\u001b[K     |███████████████▏                | 256kB 6.6MB/s eta 0:00:01\r\u001b[K     |███████████████▊                | 266kB 6.6MB/s eta 0:00:01\r\u001b[K     |████████████████▍               | 276kB 6.6MB/s eta 0:00:01\r\u001b[K     |█████████████████               | 286kB 6.6MB/s eta 0:00:01\r\u001b[K     |█████████████████▋              | 296kB 6.6MB/s eta 0:00:01\r\u001b[K     |██████████████████▏             | 307kB 6.6MB/s eta 0:00:01\r\u001b[K     |██████████████████▉             | 317kB 6.6MB/s eta 0:00:01\r\u001b[K     |███████████████████▍            | 327kB 6.6MB/s eta 0:00:01\r\u001b[K     |████████████████████            | 337kB 6.6MB/s eta 0:00:01\r\u001b[K     |████████████████████▋           | 348kB 6.6MB/s eta 0:00:01\r\u001b[K     |█████████████████████▎          | 358kB 6.6MB/s eta 0:00:01\r\u001b[K     |█████████████████████▉          | 368kB 6.6MB/s eta 0:00:01\r\u001b[K     |██████████████████████▌         | 378kB 6.6MB/s eta 0:00:01\r\u001b[K     |███████████████████████         | 389kB 6.6MB/s eta 0:00:01\r\u001b[K     |███████████████████████▋        | 399kB 6.6MB/s eta 0:00:01\r\u001b[K     |████████████████████████▎       | 409kB 6.6MB/s eta 0:00:01\r\u001b[K     |████████████████████████▉       | 419kB 6.6MB/s eta 0:00:01\r\u001b[K     |█████████████████████████▌      | 430kB 6.6MB/s eta 0:00:01\r\u001b[K     |██████████████████████████      | 440kB 6.6MB/s eta 0:00:01\r\u001b[K     |██████████████████████████▊     | 450kB 6.6MB/s eta 0:00:01\r\u001b[K     |███████████████████████████▎    | 460kB 6.6MB/s eta 0:00:01\r\u001b[K     |████████████████████████████    | 471kB 6.6MB/s eta 0:00:01\r\u001b[K     |████████████████████████████▌   | 481kB 6.6MB/s eta 0:00:01\r\u001b[K     |█████████████████████████████▏  | 491kB 6.6MB/s eta 0:00:01\r\u001b[K     |█████████████████████████████▊  | 501kB 6.6MB/s eta 0:00:01\r\u001b[K     |██████████████████████████████▍ | 512kB 6.6MB/s eta 0:00:01\r\u001b[K     |███████████████████████████████ | 522kB 6.6MB/s eta 0:00:01\r\u001b[K     |███████████████████████████████▌| 532kB 6.6MB/s eta 0:00:01\r\u001b[K     |████████████████████████████████| 542kB 6.6MB/s \n",
            "\u001b[?25hRequirement already satisfied: numpy in /usr/local/lib/python3.6/dist-packages (from mglearn) (1.19.4)\n",
            "Requirement already satisfied: matplotlib in /usr/local/lib/python3.6/dist-packages (from mglearn) (3.2.2)\n",
            "Requirement already satisfied: scikit-learn in /usr/local/lib/python3.6/dist-packages (from mglearn) (0.22.2.post1)\n",
            "Requirement already satisfied: pandas in /usr/local/lib/python3.6/dist-packages (from mglearn) (1.1.5)\n",
            "Requirement already satisfied: pillow in /usr/local/lib/python3.6/dist-packages (from mglearn) (7.0.0)\n",
            "Requirement already satisfied: cycler in /usr/local/lib/python3.6/dist-packages (from mglearn) (0.10.0)\n",
            "Requirement already satisfied: imageio in /usr/local/lib/python3.6/dist-packages (from mglearn) (2.4.1)\n",
            "Requirement already satisfied: joblib in /usr/local/lib/python3.6/dist-packages (from mglearn) (1.0.0)\n",
            "Requirement already satisfied: kiwisolver>=1.0.1 in /usr/local/lib/python3.6/dist-packages (from matplotlib->mglearn) (1.3.1)\n",
            "Requirement already satisfied: python-dateutil>=2.1 in /usr/local/lib/python3.6/dist-packages (from matplotlib->mglearn) (2.8.1)\n",
            "Requirement already satisfied: pyparsing!=2.0.4,!=2.1.2,!=2.1.6,>=2.0.1 in /usr/local/lib/python3.6/dist-packages (from matplotlib->mglearn) (2.4.7)\n",
            "Requirement already satisfied: scipy>=0.17.0 in /usr/local/lib/python3.6/dist-packages (from scikit-learn->mglearn) (1.4.1)\n",
            "Requirement already satisfied: pytz>=2017.2 in /usr/local/lib/python3.6/dist-packages (from pandas->mglearn) (2018.9)\n",
            "Requirement already satisfied: six in /usr/local/lib/python3.6/dist-packages (from cycler->mglearn) (1.15.0)\n",
            "Building wheels for collected packages: mglearn\n",
            "  Building wheel for mglearn (setup.py) ... \u001b[?25l\u001b[?25hdone\n",
            "  Created wheel for mglearn: filename=mglearn-0.1.9-py2.py3-none-any.whl size=582638 sha256=688c35b81635a22a0b1c3c5bf280ab234db518d1cb0af7d83c453dd08c1fdf7b\n",
            "  Stored in directory: /root/.cache/pip/wheels/eb/a6/ea/a6a3716233fa62fc561259b5cb1e28f79e9ff3592c0adac5f0\n",
            "Successfully built mglearn\n",
            "Installing collected packages: mglearn\n",
            "Successfully installed mglearn-0.1.9\n"
          ],
          "name": "stdout"
        }
      ]
    },
    {
      "cell_type": "markdown",
      "metadata": {
        "id": "68XGL8_GbVx4"
      },
      "source": [
        "# 5.2 Grid Search\r\n",
        "\r\n",
        "- grid search is the process that you can find an important parameter for hightening generalization performance in a model\r\n",
        "- You can find every possible combination that can be made by the parameters "
      ]
    },
    {
      "cell_type": "markdown",
      "metadata": {
        "id": "dW7NUP8acMZj"
      },
      "source": [
        "## 5.2.1 Simple Grid Search"
      ]
    },
    {
      "cell_type": "code",
      "metadata": {
        "id": "lTLybdZ7byQu"
      },
      "source": [
        "from sklearn.svm import SVC"
      ],
      "execution_count": null,
      "outputs": []
    },
    {
      "cell_type": "code",
      "metadata": {
        "colab": {
          "base_uri": "https://localhost:8080/"
        },
        "id": "2CN48R4mcWAg",
        "outputId": "6aa04674-1d1c-4ef3-8b79-33e226fde431"
      },
      "source": [
        "from sklearn.datasets import load_iris\r\n",
        "iris = load_iris()\r\n",
        "X_train, X_test, y_train, y_test = train_test_split(iris.data, iris.target,\r\n",
        "                                                    random_state=0)\r\n",
        "print(\"training set size: {}    test set size: {}\".format(\r\n",
        "    X_train.shape[0], X_test.shape[0]\r\n",
        "))\r\n",
        "\r\n",
        "best_score = 0\r\n",
        "for gamma in [0.001, 0.01, 0.1, 1, 10, 100]:\r\n",
        "  for C in [0.001, 0.01, 0.1, 1, 10, 100]:\r\n",
        "    # train SVC for each parameter combination\r\n",
        "    svm = SVC(gamma=gamma, C=C)\r\n",
        "    svm.fit(X_train, y_train)\r\n",
        "    #evaluate SVC with test set\r\n",
        "    score = svm.score(X_test, y_test)\r\n",
        "    # if the score is higher, print it\r\n",
        "    if score > best_score:\r\n",
        "      best_score = score\r\n",
        "      best_parameters = {'C': C, 'gamma': gamma}\r\n",
        "\r\n",
        "print(\"best score: {:.2f}\".format(best_score))\r\n",
        "print(\"best parameter:\", best_parameters)"
      ],
      "execution_count": null,
      "outputs": [
        {
          "output_type": "stream",
          "text": [
            "training set size: 112    test set size: 38\n",
            "best score: 0.97\n",
            "best parameter: {'C': 100, 'gamma': 0.001}\n"
          ],
          "name": "stdout"
        }
      ]
    },
    {
      "cell_type": "code",
      "metadata": {
        "id": "s6j_iY5Ld7X7"
      },
      "source": [
        ""
      ],
      "execution_count": null,
      "outputs": []
    }
  ]
}