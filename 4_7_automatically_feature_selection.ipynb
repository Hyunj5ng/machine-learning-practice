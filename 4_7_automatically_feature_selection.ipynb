{
  "nbformat": 4,
  "nbformat_minor": 0,
  "metadata": {
    "colab": {
      "name": "4.7 automatically feature selection.ipynb",
      "provenance": [],
      "collapsed_sections": [],
      "authorship_tag": "ABX9TyN0jjhSDvQPCGyIrUBdjWcT",
      "include_colab_link": true
    },
    "kernelspec": {
      "name": "python3",
      "display_name": "Python 3"
    }
  },
  "cells": [
    {
      "cell_type": "markdown",
      "metadata": {
        "id": "view-in-github",
        "colab_type": "text"
      },
      "source": [
        "<a href=\"https://colab.research.google.com/github/Hyunj5ng/machine-learning-practice/blob/main/4_7_automatically_feature_selection.ipynb\" target=\"_parent\"><img src=\"https://colab.research.google.com/assets/colab-badge.svg\" alt=\"Open In Colab\"/></a>"
      ]
    },
    {
      "cell_type": "markdown",
      "metadata": {
        "id": "pfblWPluONmt"
      },
      "source": [
        "# 4.7 automatically feature selection\r\n",
        "\r\n",
        "## 4.7.1 single variable statistic"
      ]
    },
    {
      "cell_type": "code",
      "metadata": {
        "colab": {
          "base_uri": "https://localhost:8080/"
        },
        "id": "6rsg3S4qOyYQ",
        "outputId": "65d4a004-1ab3-4c03-c492-b2bcd54d4dcf"
      },
      "source": [
        "!pip install mglearn"
      ],
      "execution_count": null,
      "outputs": [
        {
          "output_type": "stream",
          "text": [
            "Collecting mglearn\n",
            "\u001b[?25l  Downloading https://files.pythonhosted.org/packages/65/38/8aced26fce0b2ae82c3c87cd3b6105f38ca6d9d51704ecc44aa54473e6b9/mglearn-0.1.9.tar.gz (540kB)\n",
            "\r\u001b[K     |▋                               | 10kB 11.1MB/s eta 0:00:01\r\u001b[K     |█▏                              | 20kB 15.6MB/s eta 0:00:01\r\u001b[K     |█▉                              | 30kB 9.9MB/s eta 0:00:01\r\u001b[K     |██▍                             | 40kB 8.2MB/s eta 0:00:01\r\u001b[K     |███                             | 51kB 4.2MB/s eta 0:00:01\r\u001b[K     |███▋                            | 61kB 4.7MB/s eta 0:00:01\r\u001b[K     |████▎                           | 71kB 4.9MB/s eta 0:00:01\r\u001b[K     |████▉                           | 81kB 5.3MB/s eta 0:00:01\r\u001b[K     |█████▌                          | 92kB 5.2MB/s eta 0:00:01\r\u001b[K     |██████                          | 102kB 5.7MB/s eta 0:00:01\r\u001b[K     |██████▊                         | 112kB 5.7MB/s eta 0:00:01\r\u001b[K     |███████▎                        | 122kB 5.7MB/s eta 0:00:01\r\u001b[K     |███████▉                        | 133kB 5.7MB/s eta 0:00:01\r\u001b[K     |████████▌                       | 143kB 5.7MB/s eta 0:00:01\r\u001b[K     |█████████                       | 153kB 5.7MB/s eta 0:00:01\r\u001b[K     |█████████▊                      | 163kB 5.7MB/s eta 0:00:01\r\u001b[K     |██████████▎                     | 174kB 5.7MB/s eta 0:00:01\r\u001b[K     |███████████                     | 184kB 5.7MB/s eta 0:00:01\r\u001b[K     |███████████▌                    | 194kB 5.7MB/s eta 0:00:01\r\u001b[K     |████████████▏                   | 204kB 5.7MB/s eta 0:00:01\r\u001b[K     |████████████▊                   | 215kB 5.7MB/s eta 0:00:01\r\u001b[K     |█████████████▍                  | 225kB 5.7MB/s eta 0:00:01\r\u001b[K     |██████████████                  | 235kB 5.7MB/s eta 0:00:01\r\u001b[K     |██████████████▋                 | 245kB 5.7MB/s eta 0:00:01\r\u001b[K     |███████████████▏                | 256kB 5.7MB/s eta 0:00:01\r\u001b[K     |███████████████▊                | 266kB 5.7MB/s eta 0:00:01\r\u001b[K     |████████████████▍               | 276kB 5.7MB/s eta 0:00:01\r\u001b[K     |█████████████████               | 286kB 5.7MB/s eta 0:00:01\r\u001b[K     |█████████████████▋              | 296kB 5.7MB/s eta 0:00:01\r\u001b[K     |██████████████████▏             | 307kB 5.7MB/s eta 0:00:01\r\u001b[K     |██████████████████▉             | 317kB 5.7MB/s eta 0:00:01\r\u001b[K     |███████████████████▍            | 327kB 5.7MB/s eta 0:00:01\r\u001b[K     |████████████████████            | 337kB 5.7MB/s eta 0:00:01\r\u001b[K     |████████████████████▋           | 348kB 5.7MB/s eta 0:00:01\r\u001b[K     |█████████████████████▎          | 358kB 5.7MB/s eta 0:00:01\r\u001b[K     |█████████████████████▉          | 368kB 5.7MB/s eta 0:00:01\r\u001b[K     |██████████████████████▌         | 378kB 5.7MB/s eta 0:00:01\r\u001b[K     |███████████████████████         | 389kB 5.7MB/s eta 0:00:01\r\u001b[K     |███████████████████████▋        | 399kB 5.7MB/s eta 0:00:01\r\u001b[K     |████████████████████████▎       | 409kB 5.7MB/s eta 0:00:01\r\u001b[K     |████████████████████████▉       | 419kB 5.7MB/s eta 0:00:01\r\u001b[K     |█████████████████████████▌      | 430kB 5.7MB/s eta 0:00:01\r\u001b[K     |██████████████████████████      | 440kB 5.7MB/s eta 0:00:01\r\u001b[K     |██████████████████████████▊     | 450kB 5.7MB/s eta 0:00:01\r\u001b[K     |███████████████████████████▎    | 460kB 5.7MB/s eta 0:00:01\r\u001b[K     |████████████████████████████    | 471kB 5.7MB/s eta 0:00:01\r\u001b[K     |████████████████████████████▌   | 481kB 5.7MB/s eta 0:00:01\r\u001b[K     |█████████████████████████████▏  | 491kB 5.7MB/s eta 0:00:01\r\u001b[K     |█████████████████████████████▊  | 501kB 5.7MB/s eta 0:00:01\r\u001b[K     |██████████████████████████████▍ | 512kB 5.7MB/s eta 0:00:01\r\u001b[K     |███████████████████████████████ | 522kB 5.7MB/s eta 0:00:01\r\u001b[K     |███████████████████████████████▌| 532kB 5.7MB/s eta 0:00:01\r\u001b[K     |████████████████████████████████| 542kB 5.7MB/s \n",
            "\u001b[?25hRequirement already satisfied: numpy in /usr/local/lib/python3.6/dist-packages (from mglearn) (1.19.4)\n",
            "Requirement already satisfied: matplotlib in /usr/local/lib/python3.6/dist-packages (from mglearn) (3.2.2)\n",
            "Requirement already satisfied: scikit-learn in /usr/local/lib/python3.6/dist-packages (from mglearn) (0.22.2.post1)\n",
            "Requirement already satisfied: pandas in /usr/local/lib/python3.6/dist-packages (from mglearn) (1.1.5)\n",
            "Requirement already satisfied: pillow in /usr/local/lib/python3.6/dist-packages (from mglearn) (7.0.0)\n",
            "Requirement already satisfied: cycler in /usr/local/lib/python3.6/dist-packages (from mglearn) (0.10.0)\n",
            "Requirement already satisfied: imageio in /usr/local/lib/python3.6/dist-packages (from mglearn) (2.4.1)\n",
            "Requirement already satisfied: joblib in /usr/local/lib/python3.6/dist-packages (from mglearn) (1.0.0)\n",
            "Requirement already satisfied: python-dateutil>=2.1 in /usr/local/lib/python3.6/dist-packages (from matplotlib->mglearn) (2.8.1)\n",
            "Requirement already satisfied: pyparsing!=2.0.4,!=2.1.2,!=2.1.6,>=2.0.1 in /usr/local/lib/python3.6/dist-packages (from matplotlib->mglearn) (2.4.7)\n",
            "Requirement already satisfied: kiwisolver>=1.0.1 in /usr/local/lib/python3.6/dist-packages (from matplotlib->mglearn) (1.3.1)\n",
            "Requirement already satisfied: scipy>=0.17.0 in /usr/local/lib/python3.6/dist-packages (from scikit-learn->mglearn) (1.4.1)\n",
            "Requirement already satisfied: pytz>=2017.2 in /usr/local/lib/python3.6/dist-packages (from pandas->mglearn) (2018.9)\n",
            "Requirement already satisfied: six in /usr/local/lib/python3.6/dist-packages (from cycler->mglearn) (1.15.0)\n",
            "Building wheels for collected packages: mglearn\n",
            "  Building wheel for mglearn (setup.py) ... \u001b[?25l\u001b[?25hdone\n",
            "  Created wheel for mglearn: filename=mglearn-0.1.9-py2.py3-none-any.whl size=582638 sha256=c1b8b12cefb8a5632f37bfe934330b4e60d8318b8c431713b40e7e3c445ae18a\n",
            "  Stored in directory: /root/.cache/pip/wheels/eb/a6/ea/a6a3716233fa62fc561259b5cb1e28f79e9ff3592c0adac5f0\n",
            "Successfully built mglearn\n",
            "Installing collected packages: mglearn\n",
            "Successfully installed mglearn-0.1.9\n"
          ],
          "name": "stdout"
        }
      ]
    },
    {
      "cell_type": "code",
      "metadata": {
        "id": "qmL-cMpLOcr5"
      },
      "source": [
        "import sys\r\n",
        "import pandas as pd\r\n",
        "import mglearn\r\n",
        "import matplotlib.pyplot as plt\r\n",
        "import numpy as np\r\n",
        "import scipy as sp\r\n",
        "import IPython \r\n",
        "import sklearn\r\n",
        "from sklearn.model_selection import train_test_split\r\n",
        "\r\n",
        "import warnings\r\n",
        "warnings.filterwarnings(\"ignore\")"
      ],
      "execution_count": null,
      "outputs": []
    },
    {
      "cell_type": "code",
      "metadata": {
        "colab": {
          "base_uri": "https://localhost:8080/"
        },
        "id": "UcXxBlfJOwHW",
        "outputId": "333ece1f-7bf2-4e70-c2eb-a2f810e0bf9f"
      },
      "source": [
        "from sklearn.datasets import load_breast_cancer\r\n",
        "from sklearn.feature_selection import SelectPercentile, f_classif\r\n",
        "\r\n",
        "cancer = load_breast_cancer()\r\n",
        "\r\n",
        "# producing fixed random number \r\n",
        "rng = np.random.RandomState(42)\r\n",
        "noise = rng.normal(size=(len(cancer.data), 50))\r\n",
        "# add the noise features in the data\r\n",
        "#first 30 data are original features and next 50 data are noise.\r\n",
        "X_w_noise = np.hstack([cancer.data, noise])\r\n",
        "\r\n",
        "X_train, X_test, y_train, y_test = train_test_split(\r\n",
        "    X_w_noise, cancer.target, random_state=0, test_size=.5\r\n",
        ")\r\n",
        "\r\n",
        "#select 50% of features with f_classif(default) and SelectPercentile\r\n",
        "select = SelectPercentile(score_func=f_classif, percentile=50)\r\n",
        "select.fit(X_train, y_train)\r\n",
        "#apply to train set\r\n",
        "X_train_selected = select.transform(X_train)\r\n",
        "\r\n",
        "print(\"X_train.shape:\", X_train.shape)\r\n",
        "print(\"X_train_selected.shape:\", X_train_selected.shape)"
      ],
      "execution_count": null,
      "outputs": [
        {
          "output_type": "stream",
          "text": [
            "X_train.shape: (284, 80)\n",
            "X_train_selected.shape: (284, 40)\n"
          ],
          "name": "stdout"
        }
      ]
    },
    {
      "cell_type": "code",
      "metadata": {
        "colab": {
          "base_uri": "https://localhost:8080/",
          "height": 231
        },
        "id": "bZHuTf0eQi09",
        "outputId": "a1e9f0a4-ee04-4d69-a9bf-b8b900fa6d26"
      },
      "source": [
        "mask = select.get_support()\r\n",
        "print(mask)\r\n",
        "#masking True to be black, False to be white\r\n",
        "plt.matshow(mask.reshape(1,-1), cmap='gray_r')\r\n",
        "plt.xlabel(\"feature number\")\r\n",
        "plt.yticks([0])"
      ],
      "execution_count": null,
      "outputs": [
        {
          "output_type": "stream",
          "text": [
            "[ True  True  True  True  True  True  True  True  True False  True False\n",
            "  True  True  True  True  True  True False False  True  True  True  True\n",
            "  True  True  True  True  True  True False False False  True False  True\n",
            " False False  True False False False False  True False False  True False\n",
            " False  True False  True False False False False False False  True False\n",
            "  True False False False False  True False  True False False False False\n",
            "  True  True False  True False False False False]\n"
          ],
          "name": "stdout"
        },
        {
          "output_type": "execute_result",
          "data": {
            "text/plain": [
              "([<matplotlib.axis.YTick at 0x7f4cabb17a58>],\n",
              " <a list of 1 Text major ticklabel objects>)"
            ]
          },
          "metadata": {
            "tags": []
          },
          "execution_count": 4
        },
        {
          "output_type": "display_data",
          "data": {
            "image/png": "[encoded data removed]",
            "text/plain": [
              "<Figure size 1152x144 with 1 Axes>"
            ]
          },
          "metadata": {
            "tags": [],
            "needs_background": "light"
          }
        }
      ]
    },
    {
      "cell_type": "code",
      "metadata": {
        "colab": {
          "base_uri": "https://localhost:8080/"
        },
        "id": "2rr307MnRGHt",
        "outputId": "fc194b98-892c-4290-d5e7-c411e19ca102"
      },
      "source": [
        "from sklearn.linear_model import LogisticRegression\r\n",
        "\r\n",
        "# transform the test data\r\n",
        "X_test_selected = select.transform(X_test)\r\n",
        "\r\n",
        "lr = LogisticRegression()\r\n",
        "lr.fit(X_train, y_train)\r\n",
        "print(\"test score with all features: {:.3f}\".format(lr.score(X_test, y_test)))\r\n",
        "lr.fit(X_train_selected, y_train)\r\n",
        "print(\"test score with selected features: {:.3f}\".format(\r\n",
        "    lr.score(X_test_selected, y_test)\r\n",
        "))"
      ],
      "execution_count": null,
      "outputs": [
        {
          "output_type": "stream",
          "text": [
            "test score with all features: 0.916\n",
            "test score with selected features: 0.919\n"
          ],
          "name": "stdout"
        }
      ]
    },
    {
      "cell_type": "markdown",
      "metadata": {
        "id": "0SqTYI7aTwxW"
      },
      "source": [
        "## 4.7.2 model based feature selection\r\n"
      ]
    },
    {
      "cell_type": "code",
      "metadata": {
        "id": "ozGc_T1dT54a"
      },
      "source": [
        "from sklearn.feature_selection import SelectFromModel\r\n",
        "from sklearn.ensemble import RandomForestClassifier\r\n",
        "select = SelectFromModel(\r\n",
        "    RandomForestClassifier(n_estimators=100, random_state=42),\r\n",
        "    threshold=\"median\"\r\n",
        ")"
      ],
      "execution_count": null,
      "outputs": []
    },
    {
      "cell_type": "code",
      "metadata": {
        "colab": {
          "base_uri": "https://localhost:8080/"
        },
        "id": "aW7POfkGUslG",
        "outputId": "fb0a0434-f503-48cd-e823-782ed735b0c5"
      },
      "source": [
        "select.fit(X_train, y_train)\r\n",
        "X_train_l1 = select.transform(X_train)\r\n",
        "print(\"X_train.shape:\", X_train.shape)\r\n",
        "print(\"X_train_l1.shape:\", X_train_l1.shape)"
      ],
      "execution_count": null,
      "outputs": [
        {
          "output_type": "stream",
          "text": [
            "X_train.shape: (284, 80)\n",
            "X_train_l1.shape: (284, 40)\n"
          ],
          "name": "stdout"
        }
      ]
    },
    {
      "cell_type": "code",
      "metadata": {
        "colab": {
          "base_uri": "https://localhost:8080/",
          "height": 108
        },
        "id": "lq0qXRvBU64R",
        "outputId": "089c3ca6-8d06-42f4-82fe-ac4673196d6c"
      },
      "source": [
        "mask = select.get_support()\r\n",
        "#masking True to be black, False to be white\r\n",
        "plt.matshow(mask.reshape(1,-1), cmap='gray_r')\r\n",
        "plt.xlabel(\"feature number\")\r\n",
        "plt.yticks([0])"
      ],
      "execution_count": null,
      "outputs": [
        {
          "output_type": "execute_result",
          "data": {
            "text/plain": [
              "([<matplotlib.axis.YTick at 0x7f4ca8afe2e8>],\n",
              " <a list of 1 Text major ticklabel objects>)"
            ]
          },
          "metadata": {
            "tags": []
          },
          "execution_count": 8
        },
        {
          "output_type": "display_data",
          "data": {
            "image/png": "[encoded data removed]",
            "text/plain": [
              "<Figure size 1152x144 with 1 Axes>"
            ]
          },
          "metadata": {
            "tags": [],
            "needs_background": "light"
          }
        }
      ]
    },
    {
      "cell_type": "code",
      "metadata": {
        "colab": {
          "base_uri": "https://localhost:8080/"
        },
        "id": "5UVaxe5PVEZo",
        "outputId": "563957b2-5f84-4d1f-a6fb-34fb74a5c872"
      },
      "source": [
        "X_test_l1 = select.transform(X_test)\r\n",
        "score = LogisticRegression().fit(X_train_l1, y_train).score(X_test_l1, y_test)\r\n",
        "print(\"test score: {:.3f}\".format(score))"
      ],
      "execution_count": null,
      "outputs": [
        {
          "output_type": "stream",
          "text": [
            "test score: 0.930\n"
          ],
          "name": "stdout"
        }
      ]
    },
    {
      "cell_type": "markdown",
      "metadata": {
        "id": "ksyqvwu7WBne"
      },
      "source": [
        "## 4.7.3 Interative feature selection"
      ]
    },
    {
      "cell_type": "code",
      "metadata": {
        "colab": {
          "base_uri": "https://localhost:8080/",
          "height": 108
        },
        "id": "kKWlnk6yWFvh",
        "outputId": "550ae08d-75b0-427c-a303-c63fedcf5086"
      },
      "source": [
        "# RFE (Recursive Feature Elimination)\r\n",
        "from sklearn.feature_selection import RFE\r\n",
        "select = RFE(RandomForestClassifier(n_estimators=100, random_state=42),\r\n",
        "             n_features_to_select=40)\r\n",
        "\r\n",
        "select.fit(X_train, y_train)\r\n",
        "# show the selected features\r\n",
        "#masking True to be black, False to be white\r\n",
        "mask=select.get_support()\r\n",
        "plt.matshow(mask.reshape(1,-1), cmap='gray_r')\r\n",
        "plt.xlabel(\"feature number\")\r\n",
        "plt.yticks([0])\r\n"
      ],
      "execution_count": null,
      "outputs": [
        {
          "output_type": "execute_result",
          "data": {
            "text/plain": [
              "([<matplotlib.axis.YTick at 0x7f4ca8b53080>],\n",
              " <a list of 1 Text major ticklabel objects>)"
            ]
          },
          "metadata": {
            "tags": []
          },
          "execution_count": 10
        },
        {
          "output_type": "display_data",
          "data": {
            "image/png": "[encoded data removed]",
            "text/plain": [
              "<Figure size 1152x144 with 1 Axes>"
            ]
          },
          "metadata": {
            "tags": [],
            "needs_background": "light"
          }
        }
      ]
    },
    {
      "cell_type": "code",
      "metadata": {
        "colab": {
          "base_uri": "https://localhost:8080/"
        },
        "id": "wVrwGR8qW1Gz",
        "outputId": "4d7cdf69-d720-4149-e3da-64b082151d45"
      },
      "source": [
        "X_train_rfe = select.transform(X_train)\r\n",
        "X_test_rfe = select.transform(X_test)\r\n",
        "\r\n",
        "score = LogisticRegression().fit(X_train_rfe, y_train).score(X_test_rfe, y_test)\r\n",
        "print(\"test score: {:.3f}\".format(score))"
      ],
      "execution_count": null,
      "outputs": [
        {
          "output_type": "stream",
          "text": [
            "test score: 0.930\n"
          ],
          "name": "stdout"
        }
      ]
    }
  ]
}